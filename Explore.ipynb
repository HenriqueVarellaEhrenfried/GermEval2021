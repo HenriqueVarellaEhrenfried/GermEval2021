{
 "cells": [
  {
   "cell_type": "code",
   "execution_count": 3,
   "metadata": {},
   "outputs": [],
   "source": [
    "import pandas as pd"
   ]
  },
  {
   "cell_type": "code",
   "execution_count": 9,
   "metadata": {},
   "outputs": [],
   "source": [
    "test_df = pd.read_csv('./Datasets/GermEval21_TestData.csv')\n",
    "train_df = pd.read_csv('./Datasets/GermEval21_TrainData.csv')\n",
    "\n",
    "# Train + Test = Total : In this order!"
   ]
  },
  {
   "cell_type": "code",
   "execution_count": 11,
   "metadata": {},
   "outputs": [
    {
     "data": {
      "text/plain": [
       "count    4188.000000\n",
       "mean       28.880134\n",
       "std        37.695776\n",
       "min         1.000000\n",
       "25%         9.000000\n",
       "50%        18.000000\n",
       "75%        35.000000\n",
       "max       759.000000\n",
       "Name: comment_text, dtype: float64"
      ]
     },
     "execution_count": 11,
     "metadata": {},
     "output_type": "execute_result"
    }
   ],
   "source": [
    "complete_df = pd.concat([train_df, test_df])\n",
    "words = complete_df['comment_text'].apply(lambda n: len(n.split()))\n",
    "words.describe()"
   ]
  }
 ],
 "metadata": {
  "kernelspec": {
   "display_name": "envGermEval",
   "language": "python",
   "name": "python3"
  },
  "language_info": {
   "codemirror_mode": {
    "name": "ipython",
    "version": 3
   },
   "file_extension": ".py",
   "mimetype": "text/x-python",
   "name": "python",
   "nbconvert_exporter": "python",
   "pygments_lexer": "ipython3",
   "version": "3.8.10"
  },
  "orig_nbformat": 4,
  "vscode": {
   "interpreter": {
    "hash": "93eb9dea724cba29c72b458c2edea5eee3cd950c24fd094987213722f3a6fa9d"
   }
  }
 },
 "nbformat": 4,
 "nbformat_minor": 2
}
